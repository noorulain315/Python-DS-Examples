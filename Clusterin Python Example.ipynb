{
 "cells": [
  {
   "cell_type": "code",
   "execution_count": 1,
   "metadata": {
    "collapsed": true
   },
   "outputs": [],
   "source": [
    "from __future__ import print_function\n",
    "import numpy as np\n",
    "from numpy.random import RandomState\n",
    "import pickle\n",
    "import os\n",
    "import pandas as pd\n",
    "from sklearn import preprocessing\n",
    "import skfuzzy as fuzz\n",
    "import itertools\n",
    "from operator import add\n",
    "import operator"
   ]
  },
  {
   "cell_type": "code",
   "execution_count": 24,
   "metadata": {
    "collapsed": true
   },
   "outputs": [],
   "source": [
    "def common_data(list1, list2): \n",
    "    result = False\n",
    "  \n",
    "    # traverse in the 1st list \n",
    "    for x in list1: \n",
    "  \n",
    "        # traverse in the 2nd list \n",
    "        for y in list2: \n",
    "    \n",
    "            # if one common \n",
    "            if x == y: \n",
    "                result = True\n",
    "                return result  \n",
    "                  \n",
    "    return result \n",
    "def getSortedServicesList(dfMatrix, columns):\n",
    "    similar_services = dfMatrix \n",
    "    similar_dict = similar_services.to_dict('index')\n",
    "    topk_similar_dict = []\n",
    "    for s_dict in columns:\n",
    "        del similar_dict[s_dict][s_dict]\n",
    "        sorted_services = sorted(similar_dict[s_dict].items(), key=operator.itemgetter(1),reverse=True)\n",
    "        topk_similar_dict.append(sorted_services)\n",
    "    return topk_similar_dict\n",
    "def getClusterIndex(service):\n",
    "    for c in range(len(finalClusters)):\n",
    "        if service in finalClusters[c]:\n",
    "            return c"
   ]
  },
  {
   "cell_type": "code",
   "execution_count": 4,
   "metadata": {
    "collapsed": true
   },
   "outputs": [],
   "source": [
    "data = np.loadtxt('rtMatrix.txt')\n",
    "df = pd.DataFrame(data)"
   ]
  },
  {
   "cell_type": "code",
   "execution_count": 5,
   "metadata": {
    "collapsed": true
   },
   "outputs": [],
   "source": [
    "dft = df.transpose()\n",
    "corr = dft.corr()\n",
    "x = corr.values #returns a numpy array\n",
    "min_max_scaler = preprocessing.MinMaxScaler()\n",
    "x_scaled = min_max_scaler.fit_transform(x)\n",
    "corr = pd.DataFrame(x_scaled)\n",
    "#corr.to_csv (r'C:\\Users\\Noor Ul Ain\\NeighboringUsers\\User_similarity_PCC_5825.csv', index = None, header=True)"
   ]
  },
  {
   "cell_type": "code",
   "execution_count": null,
   "metadata": {
    "collapsed": true
   },
   "outputs": [],
   "source": []
  },
  {
   "cell_type": "code",
   "execution_count": 6,
   "metadata": {
    "collapsed": true
   },
   "outputs": [],
   "source": [
    "arrayUsers = []\n",
    "with open(\"userlist.txt\", 'r') as file:\n",
    "    for line in file:\n",
    "        arrayUsers.append(line)\n",
    "fileUsers = []\n",
    "for item in arrayUsers:\n",
    "    fileUsers.append(item.split('\\t'))\n",
    "fileUsers = fileUsers[2:]\n",
    "usersPd = pd.DataFrame(fileUsers)"
   ]
  },
  {
   "cell_type": "code",
   "execution_count": 7,
   "metadata": {
    "collapsed": true
   },
   "outputs": [],
   "source": [
    "topUsersAS = []\n",
    "topUsersCountry = []\n",
    "for item in fileUsers:\n",
    "    topUsersAS.append(usersPd[usersPd[4]==usersPd.iloc[int(item[0])][4]][0].values.tolist())\n",
    "    topUsersCountry.append(usersPd[usersPd[2]==usersPd.iloc[int(item[0])][2]][0].values.tolist())\n",
    "topUsersAS.sort()\n",
    "topUsersAS=list(topUsersAS for topUsersAS,_ in itertools.groupby(topUsersAS))\n",
    "topUsersCountry.sort()\n",
    "topUsersCountry= list(topUsersCountry for topUsersCountry,_ in itertools.groupby(topUsersCountry))"
   ]
  },
  {
   "cell_type": "code",
   "execution_count": 8,
   "metadata": {
    "collapsed": true
   },
   "outputs": [],
   "source": [
    "\n",
    "simiUsersListAS = []\n",
    "simiUsersListCon = []\n",
    "for item in range(len(topUsersAS)):\n",
    "    if len(topUsersAS[item])>9:\n",
    "        simiUsersListAS.append(topUsersAS[item])\n",
    "        \n",
    "for item in range(len(topUsersCountry)):\n",
    "    if len(topUsersCountry[item])>9:\n",
    "        simiUsersListCon.append(topUsersCountry[item])"
   ]
  },
  {
   "cell_type": "code",
   "execution_count": 9,
   "metadata": {
    "collapsed": true
   },
   "outputs": [],
   "source": [
    "pdAS = pd.DataFrame(simiUsersListAS)\n",
    "pdCountry = pd.DataFrame(simiUsersListCon)\n",
    "remainingUsers = [x for x in range(339)]"
   ]
  },
  {
   "cell_type": "code",
   "execution_count": 10,
   "metadata": {
    "collapsed": true
   },
   "outputs": [],
   "source": [
    "simiUsersListConInt = []\n",
    "for i in simiUsersListCon:\n",
    "    simiUsersListConInt.append([int(x) for x in i])"
   ]
  },
  {
   "cell_type": "code",
   "execution_count": 11,
   "metadata": {
    "collapsed": true
   },
   "outputs": [],
   "source": [
    "similar_users_As = pd.read_csv(r'C:\\Users\\noor.ulain3\\NeighboringUsers\\NeighboringUsers\\Neighbors_AS.csv') \n",
    "similar_users_As = np.asarray(similar_users_As)\n",
    "dftAs = dft[similar_users_As[0]]\n",
    "\n",
    "similar_users_Con = pd.read_csv(r'C:\\Users\\noor.ulain3\\NeighboringUsers\\NeighboringUsers\\Neighbors_Country.csv') \n",
    "similar_users_Con = np.asarray(similar_users_Con)\n",
    "dftCon = dft[similar_users_As[0]]\n",
    "corrCon = dftCon.corr()"
   ]
  },
  {
   "cell_type": "code",
   "execution_count": 12,
   "metadata": {
    "collapsed": true
   },
   "outputs": [],
   "source": [
    "simiUsersListConInt\n",
    "simiUsersListAS = similar_users_As.tolist()"
   ]
  },
  {
   "cell_type": "code",
   "execution_count": 13,
   "metadata": {
    "collapsed": true
   },
   "outputs": [],
   "source": [
    "simiUsersListConUnique = []\n",
    "for item in simiUsersListConInt:\n",
    "    simiUsersListConUnique.append([x for x in item if x not in simiUsersListAS[0]])"
   ]
  },
  {
   "cell_type": "code",
   "execution_count": 14,
   "metadata": {
    "collapsed": true
   },
   "outputs": [],
   "source": [
    "finalClusters = []\n",
    "finalClusters.append(simiUsersListAS[0])\n",
    "for item in simiUsersListConUnique:\n",
    "    finalClusters.append(item)"
   ]
  },
  {
   "cell_type": "code",
   "execution_count": 15,
   "metadata": {
    "collapsed": true
   },
   "outputs": [],
   "source": [
    "for item in finalClusters:\n",
    "    for i in item:\n",
    "        remainingUsers.remove(i)"
   ]
  },
  {
   "cell_type": "code",
   "execution_count": 16,
   "metadata": {
    "collapsed": true
   },
   "outputs": [],
   "source": [
    "finalClusters.append(remainingUsers)"
   ]
  },
  {
   "cell_type": "code",
   "execution_count": 17,
   "metadata": {},
   "outputs": [
    {
     "data": {
      "text/plain": [
       "7"
      ]
     },
     "execution_count": 17,
     "metadata": {},
     "output_type": "execute_result"
    }
   ],
   "source": [
    "len(finalClusters)"
   ]
  },
  {
   "cell_type": "code",
   "execution_count": 42,
   "metadata": {
    "collapsed": true
   },
   "outputs": [],
   "source": [
    "neighbours=[]"
   ]
  },
  {
   "cell_type": "code",
   "execution_count": 46,
   "metadata": {},
   "outputs": [],
   "source": [
    "for i in range(339):\n",
    "    c = getClusterIndex(i)\n",
    "    neighbours.append(sort_list_dict[c][finalClusters[c].index(i)][:10])"
   ]
  },
  {
   "cell_type": "code",
   "execution_count": null,
   "metadata": {},
   "outputs": [],
   "source": []
  },
  {
   "cell_type": "code",
   "execution_count": null,
   "metadata": {},
   "outputs": [],
   "source": []
  },
  {
   "cell_type": "code",
   "execution_count": 18,
   "metadata": {
    "collapsed": true
   },
   "outputs": [],
   "source": [
    "corrAs = dftAs.corr()\n",
    "x = corrAs.values #returns a numpy array\n",
    "min_max_scaler = preprocessing.MinMaxScaler()\n",
    "x_scaled = min_max_scaler.fit_transform(x)\n",
    "corrAs = pd.DataFrame(x_scaled)\n",
    "similar_users_As_array = np.asarray(corrAs)\n",
    "topk_users_dict = []\n",
    "for i in range(len(similar_users_As_array)):\n",
    "    user_dict = {k: v for k, v in enumerate(similar_users_As_array[i]) if i!=k}\n",
    "    sorted_user = sorted(user_dict.items(), key=operator.itemgetter(1),reverse=True)\n",
    "    topk_users_dict.append(sorted_user[:10])"
   ]
  },
  {
   "cell_type": "code",
   "execution_count": 19,
   "metadata": {
    "collapsed": true
   },
   "outputs": [],
   "source": [
    "########finding neighbours#######\n",
    "simiDfList = []\n",
    "for c in range(len(finalClusters)):\n",
    "    temp = corr[finalClusters[c]]\n",
    "    simiDfList.append(temp.iloc[finalClusters[c]])"
   ]
  },
  {
   "cell_type": "code",
   "execution_count": 20,
   "metadata": {
    "collapsed": true
   },
   "outputs": [],
   "source": [
    "sort_list_dict = []\n",
    "for i in range(len(simiDfList)):\n",
    "    sort_list_dict.append(getSortedServicesList(simiDfList[i], finalClusters[i]))"
   ]
  },
  {
   "cell_type": "code",
   "execution_count": 21,
   "metadata": {},
   "outputs": [
    {
     "data": {
      "text/plain": [
       "7"
      ]
     },
     "execution_count": 21,
     "metadata": {},
     "output_type": "execute_result"
    }
   ],
   "source": [
    "len(sort_list_dict)"
   ]
  },
  {
   "cell_type": "code",
   "execution_count": null,
   "metadata": {},
   "outputs": [],
   "source": [
    " sort_list_dict[c][finalClusters[c].tolist().index(i)][:10]"
   ]
  },
  {
   "cell_type": "code",
   "execution_count": 42,
   "metadata": {
    "collapsed": true
   },
   "outputs": [],
   "source": [
    "real_topk_users_dict = []\n",
    "for userdict in topk_users_dict:\n",
    "    real_topk_users = {}\n",
    "    for user in userdict:\n",
    "        real_topk_users.update({similar_users_As[0][user[0]]:user[1]})\n",
    "    real_topk_users_dict.append(real_topk_users)\n"
   ]
  },
  {
   "cell_type": "code",
   "execution_count": 56,
   "metadata": {
    "collapsed": true
   },
   "outputs": [],
   "source": []
  },
  {
   "cell_type": "code",
   "execution_count": 57,
   "metadata": {},
   "outputs": [
    {
     "data": {
      "text/plain": [
       "[['78',\n",
       "  '79',\n",
       "  '83',\n",
       "  '97',\n",
       "  '98',\n",
       "  '99',\n",
       "  '118',\n",
       "  '119',\n",
       "  '132',\n",
       "  '133',\n",
       "  '148',\n",
       "  '149',\n",
       "  '150',\n",
       "  '151',\n",
       "  '152',\n",
       "  '153',\n",
       "  '167',\n",
       "  '168',\n",
       "  '174',\n",
       "  '175',\n",
       "  '176',\n",
       "  '177',\n",
       "  '235',\n",
       "  '236',\n",
       "  '261',\n",
       "  '262',\n",
       "  '263',\n",
       "  '284',\n",
       "  '285',\n",
       "  '328',\n",
       "  '329']]"
      ]
     },
     "execution_count": 57,
     "metadata": {},
     "output_type": "execute_result"
    }
   ],
   "source": []
  },
  {
   "cell_type": "code",
   "execution_count": 44,
   "metadata": {
    "collapsed": true
   },
   "outputs": [],
   "source": []
  },
  {
   "cell_type": "code",
   "execution_count": 45,
   "metadata": {},
   "outputs": [
    {
     "data": {
      "text/plain": [
       "array([[  0.,   1.,   3.,   4.,   5.,   6.,   7.,   8.,   9.,  10.,  11.,\n",
       "         12.,  13.,  14.,  15.,  16.,  17.,  18.,  19.,  20.,  21.,  22.,\n",
       "         23.,  24.,  25.,  26.,  27.,  28.,  32.,  33.,  34.,  35.,  36.,\n",
       "         37.,  38.,  39.,  40.,  41.,  42.,  43.,  44.,  45.,  46.,  47.,\n",
       "         48.,  49.,  50.,  51.,  52.,  53.,  54.,  55.,  56.,  57.,  58.,\n",
       "         59.,  60.,  61.,  62.,  63.,  64.,  65.,  68.,  71.,  72.,  73.,\n",
       "         74.,  93.,  94.,  95.,  96., 100., 101., 102., 103., 106., 107.,\n",
       "        108., 109., 125., 126., 127., 128., 134., 136., 137., 140., 141.,\n",
       "        162., 163., 164., 165., 166., 169., 170., 171., 172., 173., 185.,\n",
       "        191., 198., 199., 202., 203., 206., 207., 209., 210., 218., 219.,\n",
       "        220., 221., 222., 223., 224., 225., 226., 227., 228., 229., 230.,\n",
       "        231., 232., 233., 244., 245., 246., 247., 248., 249., 286., 287.,\n",
       "        288., 289., 290., 293., 294., 295., 308., 309., 310., 311., 312.,\n",
       "        313., 314., 315., 317., 318., 319., 320., 321., 322., 323., 324.,\n",
       "        332., 333., 334., 335., 336., 337., 338.],\n",
       "       [194., 195., 204., 205., 270., 271., 278., 279., 280., 281., 282.,\n",
       "        283.,  nan,  nan,  nan,  nan,  nan,  nan,  nan,  nan,  nan,  nan,\n",
       "         nan,  nan,  nan,  nan,  nan,  nan,  nan,  nan,  nan,  nan,  nan,\n",
       "         nan,  nan,  nan,  nan,  nan,  nan,  nan,  nan,  nan,  nan,  nan,\n",
       "         nan,  nan,  nan,  nan,  nan,  nan,  nan,  nan,  nan,  nan,  nan,\n",
       "         nan,  nan,  nan,  nan,  nan,  nan,  nan,  nan,  nan,  nan,  nan,\n",
       "         nan,  nan,  nan,  nan,  nan,  nan,  nan,  nan,  nan,  nan,  nan,\n",
       "         nan,  nan,  nan,  nan,  nan,  nan,  nan,  nan,  nan,  nan,  nan,\n",
       "         nan,  nan,  nan,  nan,  nan,  nan,  nan,  nan,  nan,  nan,  nan,\n",
       "         nan,  nan,  nan,  nan,  nan,  nan,  nan,  nan,  nan,  nan,  nan,\n",
       "         nan,  nan,  nan,  nan,  nan,  nan,  nan,  nan,  nan,  nan,  nan,\n",
       "         nan,  nan,  nan,  nan,  nan,  nan,  nan,  nan,  nan,  nan,  nan,\n",
       "         nan,  nan,  nan,  nan,  nan,  nan,  nan,  nan,  nan,  nan,  nan,\n",
       "         nan,  nan,  nan,  nan,  nan,  nan,  nan,  nan,  nan,  nan,  nan,\n",
       "         nan,  nan,  nan,  nan,  nan,  nan,  nan],\n",
       "       [  2., 112., 113., 196., 197., 212., 213., 214., 215., 300., 301.,\n",
       "        303., 304., 305., 306., 307.,  nan,  nan,  nan,  nan,  nan,  nan,\n",
       "         nan,  nan,  nan,  nan,  nan,  nan,  nan,  nan,  nan,  nan,  nan,\n",
       "         nan,  nan,  nan,  nan,  nan,  nan,  nan,  nan,  nan,  nan,  nan,\n",
       "         nan,  nan,  nan,  nan,  nan,  nan,  nan,  nan,  nan,  nan,  nan,\n",
       "         nan,  nan,  nan,  nan,  nan,  nan,  nan,  nan,  nan,  nan,  nan,\n",
       "         nan,  nan,  nan,  nan,  nan,  nan,  nan,  nan,  nan,  nan,  nan,\n",
       "         nan,  nan,  nan,  nan,  nan,  nan,  nan,  nan,  nan,  nan,  nan,\n",
       "         nan,  nan,  nan,  nan,  nan,  nan,  nan,  nan,  nan,  nan,  nan,\n",
       "         nan,  nan,  nan,  nan,  nan,  nan,  nan,  nan,  nan,  nan,  nan,\n",
       "         nan,  nan,  nan,  nan,  nan,  nan,  nan,  nan,  nan,  nan,  nan,\n",
       "         nan,  nan,  nan,  nan,  nan,  nan,  nan,  nan,  nan,  nan,  nan,\n",
       "         nan,  nan,  nan,  nan,  nan,  nan,  nan,  nan,  nan,  nan,  nan,\n",
       "         nan,  nan,  nan,  nan,  nan,  nan,  nan,  nan,  nan,  nan,  nan,\n",
       "         nan,  nan,  nan,  nan,  nan,  nan,  nan],\n",
       "       [ 30.,  31.,  75.,  76., 178., 179., 180., 181., 234., 291., 292.,\n",
       "        316.,  nan,  nan,  nan,  nan,  nan,  nan,  nan,  nan,  nan,  nan,\n",
       "         nan,  nan,  nan,  nan,  nan,  nan,  nan,  nan,  nan,  nan,  nan,\n",
       "         nan,  nan,  nan,  nan,  nan,  nan,  nan,  nan,  nan,  nan,  nan,\n",
       "         nan,  nan,  nan,  nan,  nan,  nan,  nan,  nan,  nan,  nan,  nan,\n",
       "         nan,  nan,  nan,  nan,  nan,  nan,  nan,  nan,  nan,  nan,  nan,\n",
       "         nan,  nan,  nan,  nan,  nan,  nan,  nan,  nan,  nan,  nan,  nan,\n",
       "         nan,  nan,  nan,  nan,  nan,  nan,  nan,  nan,  nan,  nan,  nan,\n",
       "         nan,  nan,  nan,  nan,  nan,  nan,  nan,  nan,  nan,  nan,  nan,\n",
       "         nan,  nan,  nan,  nan,  nan,  nan,  nan,  nan,  nan,  nan,  nan,\n",
       "         nan,  nan,  nan,  nan,  nan,  nan,  nan,  nan,  nan,  nan,  nan,\n",
       "         nan,  nan,  nan,  nan,  nan,  nan,  nan,  nan,  nan,  nan,  nan,\n",
       "         nan,  nan,  nan,  nan,  nan,  nan,  nan,  nan,  nan,  nan,  nan,\n",
       "         nan,  nan,  nan,  nan,  nan,  nan,  nan,  nan,  nan,  nan,  nan,\n",
       "         nan,  nan,  nan,  nan,  nan,  nan,  nan],\n",
       "       [ 69.,  70.,  78.,  79.,  83.,  84.,  85.,  86.,  97.,  98.,  99.,\n",
       "        116., 117., 118., 119., 132., 133., 142., 143., 148., 149., 150.,\n",
       "        151., 152., 153., 167., 168., 174., 175., 176., 177., 235., 236.,\n",
       "        261., 262., 263., 264., 284., 285., 328., 329.,  nan,  nan,  nan,\n",
       "         nan,  nan,  nan,  nan,  nan,  nan,  nan,  nan,  nan,  nan,  nan,\n",
       "         nan,  nan,  nan,  nan,  nan,  nan,  nan,  nan,  nan,  nan,  nan,\n",
       "         nan,  nan,  nan,  nan,  nan,  nan,  nan,  nan,  nan,  nan,  nan,\n",
       "         nan,  nan,  nan,  nan,  nan,  nan,  nan,  nan,  nan,  nan,  nan,\n",
       "         nan,  nan,  nan,  nan,  nan,  nan,  nan,  nan,  nan,  nan,  nan,\n",
       "         nan,  nan,  nan,  nan,  nan,  nan,  nan,  nan,  nan,  nan,  nan,\n",
       "         nan,  nan,  nan,  nan,  nan,  nan,  nan,  nan,  nan,  nan,  nan,\n",
       "         nan,  nan,  nan,  nan,  nan,  nan,  nan,  nan,  nan,  nan,  nan,\n",
       "         nan,  nan,  nan,  nan,  nan,  nan,  nan,  nan,  nan,  nan,  nan,\n",
       "         nan,  nan,  nan,  nan,  nan,  nan,  nan,  nan,  nan,  nan,  nan,\n",
       "         nan,  nan,  nan,  nan,  nan,  nan,  nan]])"
      ]
     },
     "execution_count": 45,
     "metadata": {},
     "output_type": "execute_result"
    }
   ],
   "source": [
    "similar_users_Con"
   ]
  },
  {
   "cell_type": "code",
   "execution_count": 27,
   "metadata": {
    "collapsed": true
   },
   "outputs": [],
   "source": [
    "  def getTopKUsersRegularizationLocationBased():\n",
    "        similar_users_As = pd.read_csv(r'C:\\Users\\noor.ulain3\\NeighboringUsers\\NeighboringUsers\\Neighbors_AS.csv') \n",
    "        similar_users_As = np.asarray(similar_users_As)\n",
    "        gradTopKU =[]\n",
    "        topk_users_dict = self.topk_UsersDict\n",
    "        value = 0.0\n",
    "        for i in range(339):\n",
    "            if i in similar_users_As[0]:\n",
    "                dftAs = dft[similar_users_As[0]]\n",
    "                corrAs = dftAs.corr()\n",
    "                x = corrAs.values #returns a numpy array\n",
    "                min_max_scaler = preprocessing.MinMaxScaler()\n",
    "                x_scaled = min_max_scaler.fit_transform(x)\n",
    "                corrAs = pd.DataFrame(x_scaled)\n",
    "                similar_users_As_array = np.asarray(corrAs)\n",
    "                topk_users_dict = []\n",
    "                for i in range(len(similar_users_As_array)):\n",
    "                    user_dict = {k: v for k, v in enumerate(similar_users_As_array[i]) if i!=k}\n",
    "                    sorted_user = sorted(user_dict.items(), key=operator.itemgetter(1),reverse=True)\n",
    "                    topk_users_dict.append(sorted_user[:10])\n",
    "                real_topk_users_dict = []\n",
    "                for userdict in topk_users_dict:\n",
    "                    real_topk_users = {}\n",
    "                    for user in userdict:\n",
    "                        real_topk_users.update({similar_users_As[0][user[0]]:user[1]})\n",
    "                    real_topk_users_dict.append(real_topk_users)\n",
    "\n",
    "                \n",
    "            iTopkUsers=topk_users_dict[i]\n",
    "            for user in iTopkUsers:\n",
    "                gradTopKU.append(np.sum(user[1]*(np.square(self.U[i]-self.U[user[0]]))))\n"
   ]
  },
  {
   "cell_type": "code",
   "execution_count": 28,
   "metadata": {},
   "outputs": [
    {
     "ename": "NameError",
     "evalue": "name 'self' is not defined",
     "output_type": "error",
     "traceback": [
      "\u001b[1;31m---------------------------------------------------------------------------\u001b[0m",
      "\u001b[1;31mNameError\u001b[0m                                 Traceback (most recent call last)",
      "\u001b[1;32m<ipython-input-28-f7e70c49ca46>\u001b[0m in \u001b[0;36m<module>\u001b[1;34m()\u001b[0m\n\u001b[1;32m----> 1\u001b[1;33m \u001b[0mgetTopKUsersRegularizationLocationBased\u001b[0m\u001b[1;33m(\u001b[0m\u001b[1;33m)\u001b[0m\u001b[1;33m\u001b[0m\u001b[0m\n\u001b[0m",
      "\u001b[1;32m<ipython-input-27-7d31a1d6a408>\u001b[0m in \u001b[0;36mgetTopKUsersRegularizationLocationBased\u001b[1;34m()\u001b[0m\n\u001b[0;32m      3\u001b[0m       \u001b[0msimilar_users_As\u001b[0m \u001b[1;33m=\u001b[0m \u001b[0mnp\u001b[0m\u001b[1;33m.\u001b[0m\u001b[0masarray\u001b[0m\u001b[1;33m(\u001b[0m\u001b[0msimilar_users_As\u001b[0m\u001b[1;33m)\u001b[0m\u001b[1;33m\u001b[0m\u001b[0m\n\u001b[0;32m      4\u001b[0m       \u001b[0mgradTopKU\u001b[0m \u001b[1;33m=\u001b[0m\u001b[1;33m[\u001b[0m\u001b[1;33m]\u001b[0m\u001b[1;33m\u001b[0m\u001b[0m\n\u001b[1;32m----> 5\u001b[1;33m       \u001b[0mtopk_users_dict\u001b[0m \u001b[1;33m=\u001b[0m \u001b[0mself\u001b[0m\u001b[1;33m.\u001b[0m\u001b[0mtopk_UsersDict\u001b[0m\u001b[1;33m\u001b[0m\u001b[0m\n\u001b[0m\u001b[0;32m      6\u001b[0m       \u001b[0mvalue\u001b[0m \u001b[1;33m=\u001b[0m \u001b[1;36m0.0\u001b[0m\u001b[1;33m\u001b[0m\u001b[0m\n\u001b[0;32m      7\u001b[0m       \u001b[1;32mfor\u001b[0m \u001b[0mi\u001b[0m \u001b[1;32min\u001b[0m \u001b[0mrange\u001b[0m\u001b[1;33m(\u001b[0m\u001b[1;36m339\u001b[0m\u001b[1;33m)\u001b[0m\u001b[1;33m:\u001b[0m\u001b[1;33m\u001b[0m\u001b[0m\n",
      "\u001b[1;31mNameError\u001b[0m: name 'self' is not defined"
     ]
    }
   ],
   "source": [
    "getTopKUsersRegularizationLocationBased()"
   ]
  },
  {
   "cell_type": "code",
   "execution_count": 61,
   "metadata": {},
   "outputs": [
    {
     "data": {
      "text/plain": [
       "149"
      ]
     },
     "execution_count": 61,
     "metadata": {},
     "output_type": "execute_result"
    }
   ],
   "source": [
    "similar_users_As[0][topk_users_dict[0][0][0]]"
   ]
  },
  {
   "cell_type": "code",
   "execution_count": 60,
   "metadata": {},
   "outputs": [
    {
     "data": {
      "text/plain": [
       "array([[ 78,  79,  83,  97,  98,  99, 118, 119, 132, 133, 148, 149, 150,\n",
       "        151, 152, 153, 167, 168, 174, 175, 176, 177, 235, 236, 261, 262,\n",
       "        263, 284, 285, 328, 329]], dtype=int64)"
      ]
     },
     "execution_count": 60,
     "metadata": {},
     "output_type": "execute_result"
    }
   ],
   "source": [
    "similar_users_As"
   ]
  },
  {
   "cell_type": "code",
   "execution_count": 49,
   "metadata": {
    "collapsed": true
   },
   "outputs": [],
   "source": [
    "dictionary = { 7: 'one', 2:'two', 3:'three' }"
   ]
  },
  {
   "cell_type": "markdown",
   "metadata": {},
   "source": [
    "#corr.to_csv (r'C:\\Users\\Noor Ul Ain\\services_similarity_matrix\\User_similarity_matrix_Full.csv', index = None, header=True)"
   ]
  },
  {
   "cell_type": "code",
   "execution_count": null,
   "metadata": {
    "collapsed": true
   },
   "outputs": [],
   "source": [
    "dictionary['ONE'] = dictionary['']"
   ]
  },
  {
   "cell_type": "code",
   "execution_count": 50,
   "metadata": {},
   "outputs": [
    {
     "data": {
      "text/plain": [
       "'one'"
      ]
     },
     "execution_count": 50,
     "metadata": {},
     "output_type": "execute_result"
    }
   ],
   "source": [
    "dictionary.pop(7)"
   ]
  },
  {
   "cell_type": "code",
   "execution_count": 11,
   "metadata": {},
   "outputs": [
    {
     "ename": "IndentationError",
     "evalue": "expected an indented block (<ipython-input-11-b29324ed537c>, line 6)",
     "output_type": "error",
     "traceback": [
      "\u001b[1;36m  File \u001b[1;32m\"<ipython-input-11-b29324ed537c>\"\u001b[1;36m, line \u001b[1;32m6\u001b[0m\n\u001b[1;33m    similar_users = pd.read_csv(r'C:\\Users\\nain\\NeighboringUsers\\User_similarity_PCC_5825.csv')\u001b[0m\n\u001b[1;37m                ^\u001b[0m\n\u001b[1;31mIndentationError\u001b[0m\u001b[1;31m:\u001b[0m expected an indented block\n"
     ]
    }
   ],
   "source": [
    "def getTopUsers(topK, user):\n",
    "        similar_users_As = pd.read_csv(r'C:\\Users\\nain\\NeighboringUsers\\Neighbors_AS.csv') \n",
    "        similar_users_As = np.asarray(similar_users_As)\n",
    "        if user in similar_users_As[0]:\n",
    "            \n",
    "        similar_users = pd.read_csv(r'C:\\Users\\nain\\NeighboringUsers\\User_similarity_PCC_5825.csv') \n",
    "        similar_users = np.asarray(similar_users)\n",
    "        topk_users_dict = []\n",
    "        for i in range(len(similar_users)):\n",
    "            user_dict = {k: v for k, v in enumerate(similar_users[i]) if i!=k}\n",
    "            sorted_user = sorted(user_dict.items(), key=operator.itemgetter(1),reverse=True)\n",
    "            topk_users_dict.append(sorted_user[:topK])\n",
    "        return(topk_users_dict)"
   ]
  },
  {
   "cell_type": "code",
   "execution_count": 12,
   "metadata": {
    "collapsed": true
   },
   "outputs": [],
   "source": [
    "\n",
    "#if user in similar_users_As[0]:\n",
    "    "
   ]
  },
  {
   "cell_type": "code",
   "execution_count": null,
   "metadata": {
    "collapsed": true
   },
   "outputs": [],
   "source": []
  },
  {
   "cell_type": "code",
   "execution_count": 13,
   "metadata": {},
   "outputs": [
    {
     "data": {
      "text/plain": [
       "array([[ 78,  79,  83,  97,  98,  99, 118, 119, 132, 133, 148, 149, 150,\n",
       "        151, 152, 153, 167, 168, 174, 175, 176, 177, 235, 236, 261, 262,\n",
       "        263, 284, 285, 328, 329]], dtype=int64)"
      ]
     },
     "execution_count": 13,
     "metadata": {},
     "output_type": "execute_result"
    }
   ],
   "source": [
    "similar_users_As\n"
   ]
  },
  {
   "cell_type": "code",
   "execution_count": 214,
   "metadata": {
    "collapsed": true
   },
   "outputs": [],
   "source": []
  },
  {
   "cell_type": "code",
   "execution_count": 217,
   "metadata": {},
   "outputs": [
    {
     "data": {
      "text/plain": [
       "{0: array([1.        , 0.57804345, 0.31279915, 0.28723214, 0.39756786,\n",
       "        0.47544423, 0.36489465, 0.38375321, 0.60501233, 0.58226259,\n",
       "        0.43666914, 0.70999956, 0.50881741, 0.53774319, 0.66435332,\n",
       "        0.58430728, 0.50934691, 0.59904132, 0.35419064, 0.18629892,\n",
       "        0.38429405, 0.35294191, 0.30385837, 0.37381045, 0.35007406,\n",
       "        0.        , 0.19950228, 0.02167025, 0.0123381 , 0.28170501,\n",
       "        0.27762407]),\n",
       " 1: array([0.60551027, 1.        , 0.38478663, 0.30638363, 0.39524695,\n",
       "        0.45409018, 0.39891314, 0.42723726, 0.63949381, 0.50453656,\n",
       "        0.37990837, 0.56457375, 0.46053315, 0.49455003, 0.63545981,\n",
       "        0.4998725 , 0.50021341, 0.50540497, 0.39714977, 0.22795182,\n",
       "        0.39371667, 0.32917975, 0.38909636, 0.40838341, 0.40883886,\n",
       "        0.02231835, 0.1919107 , 0.0898748 , 0.07662892, 0.28386945,\n",
       "        0.3119862 ]),\n",
       " 2: array([0.39644492, 0.42204901, 1.        , 0.48665125, 0.42332576,\n",
       "        0.46328911, 0.51793778, 0.57250865, 0.47396023, 0.41355831,\n",
       "        0.5783107 , 0.37157515, 0.49347445, 0.45261043, 0.39925764,\n",
       "        0.49137568, 0.56318437, 0.48881093, 0.72025184, 0.49627968,\n",
       "        0.60530427, 0.56090863, 0.54609499, 0.58065343, 0.6347702 ,\n",
       "        0.21956306, 0.37720242, 0.15667379, 0.13255585, 0.47025991,\n",
       "        0.45412475]),\n",
       " 3: array([0.40473404, 0.38039586, 0.51186243, 1.        , 0.40276078,\n",
       "        0.40963056, 0.47561746, 0.52360891, 0.44573358, 0.41501325,\n",
       "        0.51850491, 0.39215371, 0.47184858, 0.41131306, 0.37864495,\n",
       "        0.48829024, 0.4670092 , 0.41218143, 0.49479601, 0.43925209,\n",
       "        0.62439679, 0.53734207, 0.52108759, 0.53614588, 0.51902285,\n",
       "        0.25538572, 0.42006177, 0.19360797, 0.17515709, 0.52496876,\n",
       "        0.60758444]),\n",
       " 4: array([0.45442673, 0.41419234, 0.40537621, 0.35236499, 1.        ,\n",
       "        0.72574489, 0.49049094, 0.47453144, 0.40929544, 0.46127433,\n",
       "        0.55743821, 0.48928206, 0.72956753, 0.61679636, 0.48778792,\n",
       "        0.66872318, 0.65047232, 0.59097162, 0.44516458, 0.28725002,\n",
       "        0.4200365 , 0.36374796, 0.40955745, 0.41309328, 0.36634614,\n",
       "        0.13980932, 0.27598875, 0.10874913, 0.10555581, 0.37096986,\n",
       "        0.4460275 ]),\n",
       " 5: array([0.53043129, 0.47729047, 0.45296556, 0.36719719, 0.72890765,\n",
       "        1.        , 0.45521894, 0.50678084, 0.47822529, 0.50001235,\n",
       "        0.53363022, 0.54761287, 0.67762136, 0.6076078 , 0.50440068,\n",
       "        0.71866694, 0.70730576, 0.60070634, 0.50438015, 0.29186824,\n",
       "        0.48058512, 0.42351446, 0.43595553, 0.51798011, 0.46504687,\n",
       "        0.15721062, 0.31081439, 0.14248307, 0.1158707 , 0.42977989,\n",
       "        0.44016675]),\n",
       " 6: array([0.42670834, 0.4196378 , 0.50455011, 0.43321919, 0.4921484 ,\n",
       "        0.45065601, 1.        , 0.75305276, 0.44430912, 0.43036951,\n",
       "        0.52965087, 0.4443043 , 0.5639439 , 0.47308056, 0.40802252,\n",
       "        0.52985477, 0.50483674, 0.45939945, 0.52398143, 0.41246529,\n",
       "        0.48775871, 0.44503493, 0.51255561, 0.58154468, 0.62202956,\n",
       "        0.24345162, 0.33465176, 0.12439228, 0.10846549, 0.44269267,\n",
       "        0.43869684]),\n",
       " 7: array([0.40824742, 0.4117089 , 0.53260981, 0.45224522, 0.44283057,\n",
       "        0.47092414, 0.73730016, 1.        , 0.48182008, 0.45553163,\n",
       "        0.50588847, 0.41869314, 0.56441579, 0.50738842, 0.35544209,\n",
       "        0.51086763, 0.51995834, 0.48203601, 0.59819104, 0.42264099,\n",
       "        0.53524042, 0.49754466, 0.56407164, 0.62617122, 0.61444393,\n",
       "        0.18521048, 0.34861172, 0.05212899, 0.0515951 , 0.44507102,\n",
       "        0.4457101 ]),\n",
       " 8: array([0.61632316, 0.62543534, 0.41820846, 0.35532969, 0.36641131,\n",
       "        0.43381601, 0.40202166, 0.475824  , 1.        , 0.58844025,\n",
       "        0.42519011, 0.59607536, 0.49776888, 0.48390588, 0.5643328 ,\n",
       "        0.49464817, 0.52239316, 0.53645368, 0.47813425, 0.28060715,\n",
       "        0.3947178 , 0.35966386, 0.33490359, 0.44866056, 0.47142208,\n",
       "        0.01900492, 0.23966035, 0.06516556, 0.0406207 , 0.29828468,\n",
       "        0.32572541]),\n",
       " 9: array([0.59212741, 0.48255429, 0.34805229, 0.31608168, 0.41917691,\n",
       "        0.45465298, 0.38385275, 0.44638441, 0.58631288, 1.        ,\n",
       "        0.45524026, 0.63776452, 0.53339562, 0.51669445, 0.48865826,\n",
       "        0.58882756, 0.51926467, 0.55478323, 0.38064402, 0.31983463,\n",
       "        0.40077114, 0.34457969, 0.44047178, 0.44671126, 0.44125929,\n",
       "        0.03491903, 0.22915865, 0.02740862, 0.03566163, 0.26601764,\n",
       "        0.38380584]),\n",
       " 10: array([0.44907848, 0.35134452, 0.53044598, 0.436161  , 0.52208005,\n",
       "        0.49049422, 0.49041494, 0.49677096, 0.42128015, 0.45435516,\n",
       "        1.        , 0.44483234, 0.63950805, 0.54604565, 0.39086234,\n",
       "        0.57286882, 0.49849746, 0.49469839, 0.60151258, 0.35718872,\n",
       "        0.55719992, 0.51711069, 0.53721982, 0.5055641 , 0.46007905,\n",
       "        0.17537666, 0.40397818, 0.0309507 , 0.03409482, 0.4053345 ,\n",
       "        0.48193395]),\n",
       " 11: array([0.70637681, 0.5284385 , 0.27554431, 0.2630763 , 0.42901084,\n",
       "        0.48832469, 0.37669749, 0.3870689 , 0.57897295, 0.6243689 ,\n",
       "        0.42523586, 1.        , 0.54232694, 0.49066731, 0.66024241,\n",
       "        0.61396769, 0.4841573 , 0.60913215, 0.31872344, 0.17461374,\n",
       "        0.35743119, 0.33774799, 0.32379904, 0.34144496, 0.30359273,\n",
       "        0.03427484, 0.22322646, 0.        , 0.        , 0.29283264,\n",
       "        0.33693149]),\n",
       " 12: array([0.51402687, 0.42909206, 0.42939256, 0.37430195, 0.70455056,\n",
       "        0.64368995, 0.52205073, 0.55119681, 0.48844673, 0.52717879,\n",
       "        0.63529756, 0.55276792, 1.        , 0.6657408 , 0.45510917,\n",
       "        0.70536956, 0.63976241, 0.60189015, 0.51682422, 0.32473821,\n",
       "        0.47964304, 0.43107583, 0.47631472, 0.50292965, 0.41164785,\n",
       "        0.14519523, 0.31808766, 0.03832733, 0.0228132 , 0.40118259,\n",
       "        0.45162865]),\n",
       " 13: array([0.55030975, 0.47405498, 0.3936918 , 0.31427243, 0.5883626 ,\n",
       "        0.57357463, 0.43213577, 0.500944  , 0.48313512, 0.51846176,\n",
       "        0.5484393 , 0.510627  , 0.67134199, 1.        , 0.42849753,\n",
       "        0.68060989, 0.60151018, 0.56578977, 0.45737754, 0.23699588,\n",
       "        0.40086184, 0.43880191, 0.43389536, 0.39157779, 0.38248217,\n",
       "        0.06321768, 0.25248534, 0.02657462, 0.03918793, 0.38110814,\n",
       "        0.35191668]),\n",
       " 14: array([0.68707523, 0.63647436, 0.36230556, 0.30635944, 0.4726943 ,\n",
       "        0.48384419, 0.38858945, 0.37420217, 0.58185162, 0.51174388,\n",
       "        0.41930665, 0.68715079, 0.48655042, 0.45229644, 1.        ,\n",
       "        0.56645712, 0.4808365 , 0.52503411, 0.33812711, 0.17529587,\n",
       "        0.37459493, 0.36325294, 0.32934014, 0.38146924, 0.39758376,\n",
       "        0.02434412, 0.20861124, 0.08869188, 0.07919876, 0.2483439 ,\n",
       "        0.34028418]),\n",
       " 15: array([0.5914927 , 0.47429734, 0.43089642, 0.39787291, 0.64052101,\n",
       "        0.69115491, 0.48816546, 0.49942596, 0.48874306, 0.5861621 ,\n",
       "        0.57079726, 0.62532098, 0.70735862, 0.67735962, 0.54301507,\n",
       "        1.        , 0.6956562 , 0.64630123, 0.47106712, 0.26934489,\n",
       "        0.47651118, 0.44322652, 0.46542388, 0.51797499, 0.43937351,\n",
       "        0.0821843 , 0.31132274, 0.04711748, 0.02941022, 0.3615363 ,\n",
       "        0.43411428]),\n",
       " 16: array([0.53530941, 0.49370228, 0.52896379, 0.39556986, 0.63446752,\n",
       "        0.69033221, 0.48047327, 0.52654056, 0.53433045, 0.53369053,\n",
       "        0.51433558, 0.51748043, 0.6551668 , 0.6120494 , 0.47260514,\n",
       "        0.70669032, 1.        , 0.69436342, 0.51356847, 0.31270214,\n",
       "        0.49983103, 0.36497924, 0.42467947, 0.45866201, 0.53355068,\n",
       "        0.12487857, 0.31375958, 0.09280466, 0.0645994 , 0.36246074,\n",
       "        0.3696746 ]),\n",
       " 17: array([0.61521177, 0.49230377, 0.44143914, 0.32453551, 0.56655834,\n",
       "        0.57193759, 0.42526349, 0.48234998, 0.54203398, 0.56240482,\n",
       "        0.50415419, 0.62952372, 0.61385022, 0.57165662, 0.51109218,\n",
       "        0.65459525, 0.69030218, 1.        , 0.47512629, 0.20769036,\n",
       "        0.43732747, 0.34459383, 0.38312883, 0.44732075, 0.41902839,\n",
       "        0.03668137, 0.29972383, 0.05723766, 0.05216998, 0.3122884 ,\n",
       "        0.3705625 ]),\n",
       " 18: array([0.43387234, 0.43473577, 0.72078158, 0.46970948, 0.46293201,\n",
       "        0.51465423, 0.5377211 , 0.63318746, 0.529037  , 0.44393031,\n",
       "        0.64281068, 0.41014973, 0.57189933, 0.51103513, 0.37766097,\n",
       "        0.52817257, 0.54976172, 0.52055069, 1.        , 0.41959097,\n",
       "        0.61220823, 0.53898882, 0.58777567, 0.61573646, 0.55234122,\n",
       "        0.22643127, 0.4081219 , 0.14897597, 0.13419849, 0.48272117,\n",
       "        0.43723205]),\n",
       " 19: array([0.30427684, 0.2939296 , 0.50962556, 0.42591488, 0.32707937,\n",
       "        0.32363962, 0.44348709, 0.48591844, 0.36677851, 0.40438595,\n",
       "        0.43800964, 0.30299305, 0.41645487, 0.32939266, 0.24366858,\n",
       "        0.3642936 , 0.37952081, 0.2940981 , 0.4338967 , 1.        ,\n",
       "        0.48560231, 0.43654256, 0.38980897, 0.40013956, 0.41662521,\n",
       "        0.35063936, 0.38730365, 0.1501533 , 0.15553847, 0.40419149,\n",
       "        0.48585702]),\n",
       " 20: array([0.4405847 , 0.41079198, 0.59168983, 0.59137273, 0.4181424 ,\n",
       "        0.47280911, 0.48440854, 0.56025202, 0.43384304, 0.44238742,\n",
       "        0.58862065, 0.42338102, 0.52214837, 0.44042562, 0.39051251,\n",
       "        0.51600487, 0.5201689 , 0.46728547, 0.59807082, 0.45337633,\n",
       "        1.        , 0.70624973, 0.52646814, 0.55459767, 0.49943334,\n",
       "        0.272893  , 0.47351242, 0.12597313, 0.10263466, 0.56942215,\n",
       "        0.54332266]),\n",
       " 21: array([0.41918043, 0.35592541, 0.5512343 , 0.50272683, 0.36935899,\n",
       "        0.42193204, 0.44813385, 0.53031148, 0.40826952, 0.39744498,\n",
       "        0.55677999, 0.41287638, 0.48384153, 0.48217382, 0.38693387,\n",
       "        0.49143193, 0.39813852, 0.3869635 , 0.52793763, 0.40845537,\n",
       "        0.70978808, 1.        , 0.49595345, 0.5094289 , 0.49137881,\n",
       "        0.25140891, 0.39021301, 0.11927712, 0.11344381, 0.51879582,\n",
       "        0.48794858]),\n",
       " 22: array([0.34597609, 0.38609557, 0.51445691, 0.46124766, 0.38746809,\n",
       "        0.40802702, 0.49266918, 0.57349349, 0.35672217, 0.46161014,\n",
       "        0.55542547, 0.37254858, 0.50272446, 0.45328299, 0.32416491,\n",
       "        0.48893262, 0.4292886 , 0.39609541, 0.55820621, 0.32951314,\n",
       "        0.51035172, 0.47244383, 1.        , 0.73367155, 0.5220612 ,\n",
       "        0.19230974, 0.32300958, 0.07811723, 0.07209328, 0.36732743,\n",
       "        0.42236505]),\n",
       " 23: array([0.40507743, 0.39878888, 0.54637759, 0.47231701, 0.38428637,\n",
       "        0.48842171, 0.55957307, 0.63013616, 0.46074815, 0.46162447,\n",
       "        0.51967142, 0.38204762, 0.52268707, 0.40580425, 0.36968399,\n",
       "        0.53398833, 0.45695754, 0.45285098, 0.58353954, 0.33344917,\n",
       "        0.53425723, 0.48077138, 0.73067531, 1.        , 0.62401666,\n",
       "        0.20138144, 0.35066868, 0.0791903 , 0.06165417, 0.40081845,\n",
       "        0.41171257]),\n",
       " 24: array([0.41205813, 0.42798367, 0.62381324, 0.47900684, 0.36703798,\n",
       "        0.45939661, 0.62121   , 0.63677764, 0.50773666, 0.48232203,\n",
       "        0.50057014, 0.37778265, 0.46205414, 0.42576472, 0.41546625,\n",
       "        0.48392037, 0.55446109, 0.45234977, 0.53803658, 0.3827706 ,\n",
       "        0.50160756, 0.48741369, 0.53979981, 0.64199879, 1.        ,\n",
       "        0.1754456 , 0.31623587, 0.13077119, 0.10653238, 0.38707042,\n",
       "        0.38301297]),\n",
       " 25: array([0.2302701 , 0.19505195, 0.31602071, 0.31371142, 0.26888088,\n",
       "        0.2753139 , 0.35487302, 0.346872  , 0.2226383 , 0.23918168,\n",
       "        0.35096549, 0.26582397, 0.33497802, 0.25878041, 0.19447796,\n",
       "        0.2811034 , 0.28875809, 0.22734404, 0.32075379, 0.41540817,\n",
       "        0.38400712, 0.35807388, 0.33826032, 0.35297192, 0.29840392,\n",
       "        1.        , 0.3920654 , 0.24881306, 0.26044517, 0.39771856,\n",
       "        0.33515107]),\n",
       " 26: array([0.33612259, 0.28316503, 0.41191311, 0.42410065, 0.33697766,\n",
       "        0.36150644, 0.38871048, 0.43742265, 0.35083755, 0.34525582,\n",
       "        0.49456681, 0.36374601, 0.4284068 , 0.36273897, 0.2960204 ,\n",
       "        0.41881269, 0.39908264, 0.39483335, 0.44004899, 0.40570576,\n",
       "        0.5194319 , 0.43661149, 0.40239489, 0.43318737, 0.37315006,\n",
       "        0.34499246, 1.        , 0.17953079, 0.18090156, 0.46910057,\n",
       "        0.46584537]),\n",
       " 27: array([0.03091187, 0.03570218, 0.04886888, 0.04355215, 0.02516069,\n",
       "        0.05111575, 0.03914526, 0.02221861, 0.04669763, 0.0132951 ,\n",
       "        0.01848331, 0.02166787, 0.03720019, 0.00882457, 0.03175412,\n",
       "        0.03951638, 0.05116764, 0.02689864, 0.03836602, 0.01542901,\n",
       "        0.04711211, 0.02810504, 0.02801919, 0.03995128, 0.04820897,\n",
       "        0.03330898, 0.02003061, 1.        , 0.91903958, 0.03184872,\n",
       "        0.0161249 ]),\n",
       " 28: array([0.        , 0.        , 0.        , 0.        , 0.        ,\n",
       "        0.        , 0.        , 0.        , 0.        , 0.        ,\n",
       "        0.        , 0.        , 0.        , 0.        , 0.        ,\n",
       "        0.        , 0.        , 0.        , 0.        , 0.        ,\n",
       "        0.        , 0.        , 0.        , 0.        , 0.        ,\n",
       "        0.02719965, 0.        , 0.91724649, 1.        , 0.        ,\n",
       "        0.        ]),\n",
       " 29: array([0.39039517, 0.34991553, 0.48811172, 0.51726945, 0.41051594,\n",
       "        0.45939431, 0.47602513, 0.50954691, 0.38690966, 0.36201563,\n",
       "        0.48394961, 0.40724385, 0.48634598, 0.46007905, 0.31576206,\n",
       "        0.44861575, 0.42870141, 0.39182334, 0.49920472, 0.40860086,\n",
       "        0.59780538, 0.54503605, 0.4284838 , 0.46475901, 0.42497646,\n",
       "        0.33594098, 0.45671211, 0.17051073, 0.16178802, 1.        ,\n",
       "        0.56306648]),\n",
       " 30: array([0.39456131, 0.38321176, 0.47908474, 0.60618688, 0.48731553,\n",
       "        0.47584696, 0.47883585, 0.51620834, 0.41821616, 0.47106375,\n",
       "        0.55601751, 0.4511248 , 0.53547149, 0.44164861, 0.40692966,\n",
       "        0.51737676, 0.44219504, 0.45028529, 0.46194555, 0.49601311,\n",
       "        0.578735  , 0.52189585, 0.48469501, 0.48103049, 0.42837341,\n",
       "        0.27607843, 0.46018356, 0.16752949, 0.17221948, 0.56850407,\n",
       "        1.        ])}"
      ]
     },
     "execution_count": 217,
     "metadata": {},
     "output_type": "execute_result"
    }
   ],
   "source": [
    "{k: v for k, v in enumerate(np.asarray(corr) )if i!=k}"
   ]
  },
  {
   "cell_type": "code",
   "execution_count": 210,
   "metadata": {},
   "outputs": [
    {
     "data": {
      "text/plain": [
       "<bound method DataFrame.to_dict of           0         1         2         3         4         5         6   \\\n",
       "0   1.000000  0.578043  0.312799  0.287232  0.397568  0.475444  0.364895   \n",
       "1   0.605510  1.000000  0.384787  0.306384  0.395247  0.454090  0.398913   \n",
       "2   0.396445  0.422049  1.000000  0.486651  0.423326  0.463289  0.517938   \n",
       "3   0.404734  0.380396  0.511862  1.000000  0.402761  0.409631  0.475617   \n",
       "4   0.454427  0.414192  0.405376  0.352365  1.000000  0.725745  0.490491   \n",
       "5   0.530431  0.477290  0.452966  0.367197  0.728908  1.000000  0.455219   \n",
       "6   0.426708  0.419638  0.504550  0.433219  0.492148  0.450656  1.000000   \n",
       "7   0.408247  0.411709  0.532610  0.452245  0.442831  0.470924  0.737300   \n",
       "8   0.616323  0.625435  0.418208  0.355330  0.366411  0.433816  0.402022   \n",
       "9   0.592127  0.482554  0.348052  0.316082  0.419177  0.454653  0.383853   \n",
       "10  0.449078  0.351345  0.530446  0.436161  0.522080  0.490494  0.490415   \n",
       "11  0.706377  0.528439  0.275544  0.263076  0.429011  0.488325  0.376697   \n",
       "12  0.514027  0.429092  0.429393  0.374302  0.704551  0.643690  0.522051   \n",
       "13  0.550310  0.474055  0.393692  0.314272  0.588363  0.573575  0.432136   \n",
       "14  0.687075  0.636474  0.362306  0.306359  0.472694  0.483844  0.388589   \n",
       "15  0.591493  0.474297  0.430896  0.397873  0.640521  0.691155  0.488165   \n",
       "16  0.535309  0.493702  0.528964  0.395570  0.634468  0.690332  0.480473   \n",
       "17  0.615212  0.492304  0.441439  0.324536  0.566558  0.571938  0.425263   \n",
       "18  0.433872  0.434736  0.720782  0.469709  0.462932  0.514654  0.537721   \n",
       "19  0.304277  0.293930  0.509626  0.425915  0.327079  0.323640  0.443487   \n",
       "20  0.440585  0.410792  0.591690  0.591373  0.418142  0.472809  0.484409   \n",
       "21  0.419180  0.355925  0.551234  0.502727  0.369359  0.421932  0.448134   \n",
       "22  0.345976  0.386096  0.514457  0.461248  0.387468  0.408027  0.492669   \n",
       "23  0.405077  0.398789  0.546378  0.472317  0.384286  0.488422  0.559573   \n",
       "24  0.412058  0.427984  0.623813  0.479007  0.367038  0.459397  0.621210   \n",
       "25  0.230270  0.195052  0.316021  0.313711  0.268881  0.275314  0.354873   \n",
       "26  0.336123  0.283165  0.411913  0.424101  0.336978  0.361506  0.388710   \n",
       "27  0.030912  0.035702  0.048869  0.043552  0.025161  0.051116  0.039145   \n",
       "28  0.000000  0.000000  0.000000  0.000000  0.000000  0.000000  0.000000   \n",
       "29  0.390395  0.349916  0.488112  0.517269  0.410516  0.459394  0.476025   \n",
       "30  0.394561  0.383212  0.479085  0.606187  0.487316  0.475847  0.478836   \n",
       "\n",
       "          7         8         9   ...        21        22        23        24  \\\n",
       "0   0.383753  0.605012  0.582263  ...  0.352942  0.303858  0.373810  0.350074   \n",
       "1   0.427237  0.639494  0.504537  ...  0.329180  0.389096  0.408383  0.408839   \n",
       "2   0.572509  0.473960  0.413558  ...  0.560909  0.546095  0.580653  0.634770   \n",
       "3   0.523609  0.445734  0.415013  ...  0.537342  0.521088  0.536146  0.519023   \n",
       "4   0.474531  0.409295  0.461274  ...  0.363748  0.409557  0.413093  0.366346   \n",
       "5   0.506781  0.478225  0.500012  ...  0.423514  0.435956  0.517980  0.465047   \n",
       "6   0.753053  0.444309  0.430370  ...  0.445035  0.512556  0.581545  0.622030   \n",
       "7   1.000000  0.481820  0.455532  ...  0.497545  0.564072  0.626171  0.614444   \n",
       "8   0.475824  1.000000  0.588440  ...  0.359664  0.334904  0.448661  0.471422   \n",
       "9   0.446384  0.586313  1.000000  ...  0.344580  0.440472  0.446711  0.441259   \n",
       "10  0.496771  0.421280  0.454355  ...  0.517111  0.537220  0.505564  0.460079   \n",
       "11  0.387069  0.578973  0.624369  ...  0.337748  0.323799  0.341445  0.303593   \n",
       "12  0.551197  0.488447  0.527179  ...  0.431076  0.476315  0.502930  0.411648   \n",
       "13  0.500944  0.483135  0.518462  ...  0.438802  0.433895  0.391578  0.382482   \n",
       "14  0.374202  0.581852  0.511744  ...  0.363253  0.329340  0.381469  0.397584   \n",
       "15  0.499426  0.488743  0.586162  ...  0.443227  0.465424  0.517975  0.439374   \n",
       "16  0.526541  0.534330  0.533691  ...  0.364979  0.424679  0.458662  0.533551   \n",
       "17  0.482350  0.542034  0.562405  ...  0.344594  0.383129  0.447321  0.419028   \n",
       "18  0.633187  0.529037  0.443930  ...  0.538989  0.587776  0.615736  0.552341   \n",
       "19  0.485918  0.366779  0.404386  ...  0.436543  0.389809  0.400140  0.416625   \n",
       "20  0.560252  0.433843  0.442387  ...  0.706250  0.526468  0.554598  0.499433   \n",
       "21  0.530311  0.408270  0.397445  ...  1.000000  0.495953  0.509429  0.491379   \n",
       "22  0.573493  0.356722  0.461610  ...  0.472444  1.000000  0.733672  0.522061   \n",
       "23  0.630136  0.460748  0.461624  ...  0.480771  0.730675  1.000000  0.624017   \n",
       "24  0.636778  0.507737  0.482322  ...  0.487414  0.539800  0.641999  1.000000   \n",
       "25  0.346872  0.222638  0.239182  ...  0.358074  0.338260  0.352972  0.298404   \n",
       "26  0.437423  0.350838  0.345256  ...  0.436611  0.402395  0.433187  0.373150   \n",
       "27  0.022219  0.046698  0.013295  ...  0.028105  0.028019  0.039951  0.048209   \n",
       "28  0.000000  0.000000  0.000000  ...  0.000000  0.000000  0.000000  0.000000   \n",
       "29  0.509547  0.386910  0.362016  ...  0.545036  0.428484  0.464759  0.424976   \n",
       "30  0.516208  0.418216  0.471064  ...  0.521896  0.484695  0.481030  0.428373   \n",
       "\n",
       "          25        26        27        28        29        30  \n",
       "0   0.000000  0.199502  0.021670  0.012338  0.281705  0.277624  \n",
       "1   0.022318  0.191911  0.089875  0.076629  0.283869  0.311986  \n",
       "2   0.219563  0.377202  0.156674  0.132556  0.470260  0.454125  \n",
       "3   0.255386  0.420062  0.193608  0.175157  0.524969  0.607584  \n",
       "4   0.139809  0.275989  0.108749  0.105556  0.370970  0.446027  \n",
       "5   0.157211  0.310814  0.142483  0.115871  0.429780  0.440167  \n",
       "6   0.243452  0.334652  0.124392  0.108465  0.442693  0.438697  \n",
       "7   0.185210  0.348612  0.052129  0.051595  0.445071  0.445710  \n",
       "8   0.019005  0.239660  0.065166  0.040621  0.298285  0.325725  \n",
       "9   0.034919  0.229159  0.027409  0.035662  0.266018  0.383806  \n",
       "10  0.175377  0.403978  0.030951  0.034095  0.405334  0.481934  \n",
       "11  0.034275  0.223226  0.000000  0.000000  0.292833  0.336931  \n",
       "12  0.145195  0.318088  0.038327  0.022813  0.401183  0.451629  \n",
       "13  0.063218  0.252485  0.026575  0.039188  0.381108  0.351917  \n",
       "14  0.024344  0.208611  0.088692  0.079199  0.248344  0.340284  \n",
       "15  0.082184  0.311323  0.047117  0.029410  0.361536  0.434114  \n",
       "16  0.124879  0.313760  0.092805  0.064599  0.362461  0.369675  \n",
       "17  0.036681  0.299724  0.057238  0.052170  0.312288  0.370563  \n",
       "18  0.226431  0.408122  0.148976  0.134198  0.482721  0.437232  \n",
       "19  0.350639  0.387304  0.150153  0.155538  0.404191  0.485857  \n",
       "20  0.272893  0.473512  0.125973  0.102635  0.569422  0.543323  \n",
       "21  0.251409  0.390213  0.119277  0.113444  0.518796  0.487949  \n",
       "22  0.192310  0.323010  0.078117  0.072093  0.367327  0.422365  \n",
       "23  0.201381  0.350669  0.079190  0.061654  0.400818  0.411713  \n",
       "24  0.175446  0.316236  0.130771  0.106532  0.387070  0.383013  \n",
       "25  1.000000  0.392065  0.248813  0.260445  0.397719  0.335151  \n",
       "26  0.344992  1.000000  0.179531  0.180902  0.469101  0.465845  \n",
       "27  0.033309  0.020031  1.000000  0.919040  0.031849  0.016125  \n",
       "28  0.027200  0.000000  0.917246  1.000000  0.000000  0.000000  \n",
       "29  0.335941  0.456712  0.170511  0.161788  1.000000  0.563066  \n",
       "30  0.276078  0.460184  0.167529  0.172219  0.568504  1.000000  \n",
       "\n",
       "[31 rows x 31 columns]>"
      ]
     },
     "execution_count": 210,
     "metadata": {},
     "output_type": "execute_result"
    }
   ],
   "source": []
  },
  {
   "cell_type": "code",
   "execution_count": null,
   "metadata": {
    "collapsed": true
   },
   "outputs": [],
   "source": []
  }
 ],
 "metadata": {
  "kernelspec": {
   "display_name": "Python 3",
   "language": "python",
   "name": "python3"
  },
  "language_info": {
   "codemirror_mode": {
    "name": "ipython",
    "version": 3
   },
   "file_extension": ".py",
   "mimetype": "text/x-python",
   "name": "python",
   "nbconvert_exporter": "python",
   "pygments_lexer": "ipython3",
   "version": "3.6.3"
  }
 },
 "nbformat": 4,
 "nbformat_minor": 2
}
